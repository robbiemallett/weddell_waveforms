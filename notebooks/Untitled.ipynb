{
 "cells": [
  {
   "cell_type": "code",
   "execution_count": 8,
   "id": "e44f6731",
   "metadata": {},
   "outputs": [],
   "source": [
    "import requests\n",
    "import tqdm"
   ]
  },
  {
   "cell_type": "code",
   "execution_count": null,
   "id": "c2b9e404",
   "metadata": {},
   "outputs": [],
   "source": [
    "exists=[]\n",
    "for i in tqdm.trange(1,80_000):\n",
    "    \n",
    "    response = requests.get(f'https://mdpi.com/si/{i}')\n",
    "    if response.status_code == 200:\n",
    "        exists.append(True)\n",
    "    else:\n",
    "        exists.append(False)\n",
    "        \n",
    "    break"
   ]
  },
  {
   "cell_type": "code",
   "execution_count": null,
   "id": "13a55061",
   "metadata": {},
   "outputs": [],
   "source": []
  }
 ],
 "metadata": {
  "kernelspec": {
   "display_name": "Python 3 (ipykernel)",
   "language": "python",
   "name": "python3"
  },
  "language_info": {
   "codemirror_mode": {
    "name": "ipython",
    "version": 3
   },
   "file_extension": ".py",
   "mimetype": "text/x-python",
   "name": "python",
   "nbconvert_exporter": "python",
   "pygments_lexer": "ipython3",
   "version": "3.8.12"
  }
 },
 "nbformat": 4,
 "nbformat_minor": 5
}
